{
 "cells": [
  {
   "cell_type": "code",
   "execution_count": 1,
   "metadata": {
    "collapsed": false,
    "scrolled": true
   },
   "outputs": [
    {
     "name": "stdout",
     "output_type": "stream",
     "text": [
      "Populating the interactive namespace from numpy and matplotlib\n"
     ]
    }
   ],
   "source": [
    "pylab inline\n"
   ]
  },
  {
   "cell_type": "code",
   "execution_count": 2,
   "metadata": {
    "collapsed": false
   },
   "outputs": [
    {
     "name": "stdout",
     "output_type": "stream",
     "text": [
      "dc not loaded yet\n"
     ]
    }
   ],
   "source": [
    "try:\n",
    "    reload(dc)\n",
    "except Exception:\n",
    "    print 'dc not loaded yet'\n",
    "    "
   ]
  },
  {
   "cell_type": "code",
   "execution_count": 4,
   "metadata": {
    "collapsed": false
   },
   "outputs": [
    {
     "name": "stdout",
     "output_type": "stream",
     "text": [
      "Layer  0  left Kernel offset is  0 , top Kernel offset is  0\n",
      "Layer  1  left Kernel offset is  -2 , top Kernel offset is  -2\n",
      "Layer  2  left Kernel offset is  -1 , top Kernel offset is  -1\n"
     ]
    }
   ],
   "source": [
    "import dnnConnectivityAndMemoryAllocation as dc\n",
    "\n",
    "# Create memory\n",
    "memory = dc.Memory(2,32,8,4096)\n",
    "\n",
    "# Create DNN\n",
    "network = dc.Network()\n",
    "#                                    X    Y    Z    Kx   Ky   Kz   stride\n",
    "network.addLayer('Input',          224, 224,    3                      ) #    3 \n",
    "network.addLayer('Convolutional',   55,  55,   96,   11,  11,    3,   4 ) #   96,\n",
    "network.addLayer('Convolutional',   27,  27,  256,    5,   5,   96,   2 ) #  256,\n",
    "# network.addLayer('Convolutional',   13,  13,  384,    3,   3,  256,   2 ) #  384,\n",
    "# network.addLayer('Convolutional',   13,  13,  384,    3,   3,  384,   1 ) #  384,\n",
    "# network.addLayer('Fully Connected', 13,  13,  256,    3,   3,  384,   1 ) #  256,\n",
    "# network.addLayer('Fully Connected',  1,   1, 4096,   13,  13,  256,   1 ) # 4096,\n",
    "# network.addLayer('Fully Connected',  1,   1, 4096,    1,   1, 4096,   1 ) # 4096,\n",
    "# network.addLayer('Fully Connected',  1,   1, 1024,    1,   1, 4096,   1 ) # 1024,\n",
    "\n",
    "#network.addLayer('Input',          224, 224,    3                      ) #    3 \n",
    "#network.addLayer('Convolutional',   55,  55,   10,   11,  11,    3,   4 ) #   96,\n",
    "#network.addLayer('Input',           55,  55,   10,                      ) #   96,\n",
    "#network.addLayer('Convolutional',   27,  27,    5,    5,   5,   10,   2 ) #  256,\n",
    "#network.addLayer('Convolutional',   13,  13,   10,    3,   3,    5,   2 ) #  384,\n",
    "#network.addLayer('Convolutional',   13,  13,    8,    3,   3,   10,   1 ) #  384,\n",
    "#network.addLayer('Fully Connected', 13,  13,    6,    3,   3,    8,   1 ) #  256,\n",
    "#network.addLayer('Fully Connected',  1,   1,    6,   13,  13,    6,   1 ) # 4096,\n",
    "#network.addLayer('Fully Connected',  1,   1,    4,    1,   1,    6,   1 ) # 4096,\n",
    "#network.addLayer('Fully Connected',  1,   1,    4,    1,   1,    4,   1 ) # 1024,\n",
    "\n",
    "network.assignPEs()\n",
    "\n",
    "\n",
    "\n",
    "\n"
   ]
  },
  {
   "cell_type": "code",
   "execution_count": 5,
   "metadata": {
    "collapsed": false
   },
   "outputs": [
    {
     "name": "stdout",
     "output_type": "stream",
     "text": [
      "Updating Layer 1 connections for features in row :0\n",
      "Updating Layer 1 connections for features in row :1\n",
      "Updating Layer 1 connections for features in row :2\n",
      "Updating Layer 1 connections for features in row :3\n",
      "Updating Layer 1 connections for features in row :4\n",
      "Updating Layer 1 connections for features in row :5\n",
      "Updating Layer 1 connections for features in row :6\n",
      "Updating Layer 1 connections for features in row :7\n",
      "Updating Layer 1 connections for features in row :8\n",
      "Updating Layer 1 connections for features in row :9\n",
      "Updating Layer 1 connections for features in row :10\n",
      "Updating Layer 1 connections for features in row :11\n",
      "Updating Layer 1 connections for features in row :12\n",
      "Updating Layer 1 connections for features in row :13\n",
      "Updating Layer 1 connections for features in row :14\n",
      "Updating Layer 1 connections for features in row :15\n",
      "Updating Layer 1 connections for features in row :16\n",
      "Updating Layer 1 connections for features in row :17\n",
      "Updating Layer 1 connections for features in row :18\n",
      "Updating Layer 1 connections for features in row :19\n",
      "Updating Layer 1 connections for features in row :20\n",
      "Updating Layer 1 connections for features in row :21\n",
      "Updating Layer 1 connections for features in row :22\n",
      "Updating Layer 1 connections for features in row :23\n",
      "Updating Layer 1 connections for features in row :24\n",
      "Updating Layer 1 connections for features in row :25\n",
      "Updating Layer 1 connections for features in row :26\n",
      "Updating Layer 1 connections for features in row :27\n",
      "Updating Layer 1 connections for features in row :28\n",
      "Updating Layer 1 connections for features in row :29\n",
      "Updating Layer 1 connections for features in row :30\n",
      "Updating Layer 1 connections for features in row :31\n",
      "Updating Layer 1 connections for features in row :32\n",
      "Updating Layer 1 connections for features in row :33\n",
      "Updating Layer 1 connections for features in row :34\n",
      "Updating Layer 1 connections for features in row :35\n",
      "Updating Layer 1 connections for features in row :36\n",
      "Updating Layer 1 connections for features in row :37\n",
      "Updating Layer 1 connections for features in row :38\n",
      "Updating Layer 1 connections for features in row :39\n",
      "Updating Layer 1 connections for features in row :40\n",
      "Updating Layer 1 connections for features in row :41\n",
      "Updating Layer 1 connections for features in row :42\n",
      "Updating Layer 1 connections for features in row :43\n",
      "Updating Layer 1 connections for features in row :44\n",
      "Updating Layer 1 connections for features in row :45\n",
      "Updating Layer 1 connections for features in row :46\n",
      "Updating Layer 1 connections for features in row :47\n",
      "Updating Layer 1 connections for features in row :48\n",
      "Updating Layer 1 connections for features in row :49\n",
      "Updating Layer 1 connections for features in row :50\n",
      "Updating Layer 1 connections for features in row :51\n",
      "Updating Layer 1 connections for features in row :52\n",
      "Updating Layer 1 connections for features in row :53\n",
      "Updating Layer 1 connections for features in row :54\n",
      "Removing duplicates in source and target cell lists of Layers 1 and 0 respectively\n",
      "Connections complete from Layer 0 to 1\n",
      "Updating Layer 2 connections for features in row :0\n",
      "Updating Layer 2 connections for features in row :1\n",
      "Updating Layer 2 connections for features in row :2\n",
      "Updating Layer 2 connections for features in row :3\n",
      "Updating Layer 2 connections for features in row :4\n",
      "Updating Layer 2 connections for features in row :5\n",
      "Updating Layer 2 connections for features in row :6\n",
      "Updating Layer 2 connections for features in row :7\n",
      "Updating Layer 2 connections for features in row :8\n",
      "Updating Layer 2 connections for features in row :9\n",
      "Updating Layer 2 connections for features in row :10\n",
      "Updating Layer 2 connections for features in row :11\n",
      "Updating Layer 2 connections for features in row :12\n",
      "Updating Layer 2 connections for features in row :13\n",
      "Updating Layer 2 connections for features in row :14\n",
      "Updating Layer 2 connections for features in row :15\n",
      "Updating Layer 2 connections for features in row :16\n",
      "Updating Layer 2 connections for features in row :17\n",
      "Updating Layer 2 connections for features in row :18\n",
      "Updating Layer 2 connections for features in row :19\n",
      "Updating Layer 2 connections for features in row :20\n",
      "Updating Layer 2 connections for features in row :21\n",
      "Updating Layer 2 connections for features in row :22\n",
      "Updating Layer 2 connections for features in row :23\n",
      "Updating Layer 2 connections for features in row :24\n",
      "Updating Layer 2 connections for features in row :25\n",
      "Updating Layer 2 connections for features in row :26\n",
      "Removing duplicates in source and target cell lists of Layers 2 and 1 respectively\n",
      "Connections complete from Layer 1 to 2\n"
     ]
    }
   ],
   "source": [
    "for l in range(1, network.numberOfLayers):\n",
    "  network.Layers[l].generateConnections()\n"
   ]
  },
  {
   "cell_type": "code",
   "execution_count": 6,
   "metadata": {
    "collapsed": false
   },
   "outputs": [
    {
     "data": {
      "image/png": "[encoded data removed]",
      "text/plain": [
       "<matplotlib.figure.Figure at 0x10ce9f650>"
      ]
     },
     "metadata": {},
     "output_type": "display_data"
    }
   ],
   "source": [
    "network.Layers[0].displayTargetPECounts()\n"
   ]
  },
  {
   "cell_type": "code",
   "execution_count": 7,
   "metadata": {
    "collapsed": false
   },
   "outputs": [],
   "source": [
    "lid = 0\n",
    "numOfPEs = network.Layers[lid].getTargetPECounts()\n"
   ]
  },
  {
   "cell_type": "code",
   "execution_count": 8,
   "metadata": {
    "collapsed": false
   },
   "outputs": [],
   "source": [
    "opt = np.get_printoptions()\n",
    "np.set_printoptions(threshold=np.inf)\n",
    "#print numOfPEs\n",
    "np.set_printoptions(threshold=1000)\n",
    "\n"
   ]
  },
  {
   "cell_type": "code",
   "execution_count": 12,
   "metadata": {
    "collapsed": false,
    "scrolled": true
   },
   "outputs": [
    {
     "data": {
      "image/png": "[encoded data removed]",
      "text/plain": [
       "<matplotlib.figure.Figure at 0x14df08450>"
      ]
     },
     "metadata": {},
     "output_type": "display_data"
    }
   ],
   "source": [
    "region = np.array([50,65,45,65])\n",
    "#region = np.array([12,20,9,21])\n",
    "network.Layers[0].displayTargetPECountsRegion(region)"
   ]
  },
  {
   "cell_type": "code",
   "execution_count": 15,
   "metadata": {
    "collapsed": false
   },
   "outputs": [],
   "source": [
    "network.peArray.pe[4][4].memCpyROI(1)\n"
   ]
  },
  {
   "cell_type": "code",
   "execution_count": 30,
   "metadata": {
    "collapsed": false,
    "scrolled": true
   },
   "outputs": [
    {
     "data": {
      "text/plain": [
       "<dnnConnectivityAndMemoryAllocation.Cell instance at 0x14e7dca28>"
      ]
     },
     "execution_count": 30,
     "metadata": {},
     "output_type": "execute_result"
    }
   ],
   "source": [
    "network.peArray.pe[4][4].roiCells[1][1][0][0]\n"
   ]
  },
  {
   "cell_type": "code",
   "execution_count": 26,
   "metadata": {
    "collapsed": false
   },
   "outputs": [
    {
     "data": {
      "text/plain": [
       "<dnnConnectivityAndMemoryAllocation.Cell instance at 0x1147dc7e8>"
      ]
     },
     "execution_count": 26,
     "metadata": {},
     "output_type": "execute_result"
    }
   ],
   "source": [
    "network.peArray.pe[4][4].roiCells[1][1][0][0].originalCell"
   ]
  },
  {
   "cell_type": "code",
   "execution_count": 29,
   "metadata": {
    "collapsed": false
   },
   "outputs": [
    {
     "data": {
      "text/plain": [
       "<dnnConnectivityAndMemoryAllocation.Cell instance at 0x1147dc7e8>"
      ]
     },
     "execution_count": 29,
     "metadata": {},
     "output_type": "execute_result"
    }
   ],
   "source": [
    "network.Layers[0].cells[1][110][106]"
   ]
  }
 ],
 "metadata": {
  "kernelspec": {
   "display_name": "Python 2",
   "language": "python",
   "name": "python2"
  },
  "language_info": {
   "codemirror_mode": {
    "name": "ipython",
    "version": 2
   },
   "file_extension": ".py",
   "mimetype": "text/x-python",
   "name": "python",
   "nbconvert_exporter": "python",
   "pygments_lexer": "ipython2",
   "version": "2.7.10"
  }
 },
 "nbformat": 4,
 "nbformat_minor": 0
}
