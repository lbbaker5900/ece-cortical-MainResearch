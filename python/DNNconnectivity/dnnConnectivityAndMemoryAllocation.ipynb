{
 "cells": [
  {
   "cell_type": "code",
   "execution_count": 199,
   "metadata": {
    "collapsed": false,
    "scrolled": true
   },
   "outputs": [
    {
     "ename": "SyntaxError",
     "evalue": "invalid syntax (<ipython-input-199-b794e5809f34>, line 1)",
     "output_type": "error",
     "traceback": [
      "\u001b[0;36m  File \u001b[0;32m\"<ipython-input-199-b794e5809f34>\"\u001b[0;36m, line \u001b[0;32m1\u001b[0m\n\u001b[0;31m    pylab inline\u001b[0m\n\u001b[0m               ^\u001b[0m\n\u001b[0;31mSyntaxError\u001b[0m\u001b[0;31m:\u001b[0m invalid syntax\n"
     ]
    }
   ],
   "source": [
    "pylab inline\n"
   ]
  },
  {
   "cell_type": "code",
   "execution_count": 245,
   "metadata": {
    "collapsed": false
   },
   "outputs": [],
   "source": [
    "try:\n",
    "    reload(dc)\n",
    "except Exception:\n",
    "    print 'dc not loaded yet'\n",
    "    "
   ]
  },
  {
   "cell_type": "code",
   "execution_count": 246,
   "metadata": {
    "collapsed": false
   },
   "outputs": [
    {
     "name": "stdout",
     "output_type": "stream",
     "text": [
      "Layer  0  left Kernel offset is  0 , top Kernel offset is  0\n",
      "Layer  1  left Kernel offset is  -1 , top Kernel offset is  -1\n"
     ]
    }
   ],
   "source": [
    "import dnnConnectivityAndMemoryAllocation as dc\n",
    "\n",
    "# Create memory\n",
    "memory = dc.Memory(2,32,8,4096)\n",
    "\n",
    "# Create DNN\n",
    "network = dc.Network()\n",
    "#                                    X    Y    Z    Kx   Ky   Kz   stride\n",
    "# network.addLayer('Input',          224, 224,    3                      ) #    3 \n",
    "# network.addLayer('Convolutional',   55,  55,   96,   11,  11,    3,   4 ) #   96,\n",
    "# network.addLayer('Convolutional',   27,  27,  256,    5,   5,   96,   2 ) #  256,\n",
    "# network.addLayer('Convolutional',   13,  13,  384,    3,   3,  256,   2 ) #  384,\n",
    "# network.addLayer('Convolutional',   13,  13,  384,    3,   3,  384,   1 ) #  384,\n",
    "# network.addLayer('Fully Connected', 13,  13,  256,    3,   3,  384,   1 ) #  256,\n",
    "# network.addLayer('Fully Connected',  1,   1, 4096,   13,  13,  256,   1 ) # 4096,\n",
    "# network.addLayer('Fully Connected',  1,   1, 4096,    1,   1, 4096,   1 ) # 4096,\n",
    "# network.addLayer('Fully Connected',  1,   1, 1024,    1,   1, 4096,   1 ) # 1024,\n",
    "\n",
    "#network.addLayer('Input',          224, 224,    3                      ) #    3 \n",
    "#network.addLayer('Convolutional',   55,  55,   10,   11,  11,    3,   4 ) #   96,\n",
    "network.addLayer('Input',           55,  55,   10,                      ) #   96,\n",
    "network.addLayer('Convolutional',   27,  27,    5,    5,   5,   10,   2 ) #  256,\n",
    "#network.addLayer('Convolutional',   13,  13,   10,    3,   3,    5,   2 ) #  384,\n",
    "#network.addLayer('Convolutional',   13,  13,    8,    3,   3,   10,   1 ) #  384,\n",
    "#network.addLayer('Fully Connected', 13,  13,    6,    3,   3,    8,   1 ) #  256,\n",
    "#network.addLayer('Fully Connected',  1,   1,    6,   13,  13,    6,   1 ) # 4096,\n",
    "#network.addLayer('Fully Connected',  1,   1,    4,    1,   1,    6,   1 ) # 4096,\n",
    "#network.addLayer('Fully Connected',  1,   1,    4,    1,   1,    4,   1 ) # 1024,\n",
    "network.assignPEs()\n",
    "\n",
    "\n",
    "\n",
    "\n"
   ]
  },
  {
   "cell_type": "code",
   "execution_count": 247,
   "metadata": {
    "collapsed": false
   },
   "outputs": [
    {
     "name": "stdout",
     "output_type": "stream",
     "text": [
      "Updating Layer 1 connections for features in row :0\n",
      "Updating Layer 1 connections for features in row :1\n",
      "Updating Layer 1 connections for features in row :2\n",
      "Updating Layer 1 connections for features in row :3\n",
      "Updating Layer 1 connections for features in row :4\n",
      "Updating Layer 1 connections for features in row :5\n",
      "Updating Layer 1 connections for features in row :6\n",
      "Updating Layer 1 connections for features in row :7\n",
      "Updating Layer 1 connections for features in row :8\n",
      "Updating Layer 1 connections for features in row :9\n",
      "Updating Layer 1 connections for features in row :10\n",
      "Updating Layer 1 connections for features in row :11\n",
      "Updating Layer 1 connections for features in row :12\n",
      "Updating Layer 1 connections for features in row :13\n",
      "Updating Layer 1 connections for features in row :14\n",
      "Updating Layer 1 connections for features in row :15\n",
      "Updating Layer 1 connections for features in row :16\n",
      "Updating Layer 1 connections for features in row :17\n",
      "Updating Layer 1 connections for features in row :18\n",
      "Updating Layer 1 connections for features in row :19\n",
      "Updating Layer 1 connections for features in row :20\n",
      "Updating Layer 1 connections for features in row :21\n",
      "Updating Layer 1 connections for features in row :22\n",
      "Updating Layer 1 connections for features in row :23\n",
      "Updating Layer 1 connections for features in row :24\n",
      "Updating Layer 1 connections for features in row :25\n",
      "Updating Layer 1 connections for features in row :26\n",
      "Removing duplicates in source and target cell lists of Layers 1 and 0 respectively\n",
      "Connections complete from Layer 0 to 1\n"
     ]
    }
   ],
   "source": [
    "for l in range(1, network.numberOfLayers):\n",
    "  network.Layers[l].generateConnections()\n"
   ]
  },
  {
   "cell_type": "code",
   "execution_count": 248,
   "metadata": {
    "collapsed": false
   },
   "outputs": [
    {
     "data": {
      "image/png": "[encoded data removed]",
      "text/plain": [
       "<matplotlib.figure.Figure at 0x12d205790>"
      ]
     },
     "metadata": {},
     "output_type": "display_data"
    }
   ],
   "source": [
    "network.Layers[0].displayTargetPECounts()\n"
   ]
  },
  {
   "cell_type": "code",
   "execution_count": 249,
   "metadata": {
    "collapsed": false
   },
   "outputs": [],
   "source": [
    "lid = 0\n",
    "numOfPEs = network.Layers[lid].getTargetPECounts()\n"
   ]
  },
  {
   "cell_type": "code",
   "execution_count": 250,
   "metadata": {
    "collapsed": false
   },
   "outputs": [],
   "source": [
    "opt = np.get_printoptions()\n",
    "np.set_printoptions(threshold=np.inf)\n",
    "#print numOfPEs\n",
    "np.set_printoptions(threshold=1000)\n",
    "\n"
   ]
  },
  {
   "cell_type": "code",
   "execution_count": 251,
   "metadata": {
    "collapsed": false,
    "scrolled": true
   },
   "outputs": [
    {
     "data": {
      "image/png": "[encoded data removed]",
      "text/plain": [
       "<matplotlib.figure.Figure at 0x10b5da0d0>"
      ]
     },
     "metadata": {},
     "output_type": "display_data"
    }
   ],
   "source": [
    "#region = np.array([50,65,45,65])\n",
    "region = np.array([12,20,9,21])\n",
    "network.Layers[0].displayTargetPECountsRegion(region)"
   ]
  },
  {
   "cell_type": "code",
   "execution_count": 252,
   "metadata": {
    "collapsed": false
   },
   "outputs": [],
   "source": [
    "network.peArray.pe[4][4].memCpyROI(1)"
   ]
  },
  {
   "cell_type": "code",
   "execution_count": 253,
   "metadata": {
    "collapsed": false
   },
   "outputs": [
    {
     "name": "stdout",
     "output_type": "stream",
     "text": [
      "\n",
      "Cell\n",
      "ID{Z,Y,X} : 9,29,25\n",
      "PE{Y,X} : 4,3\n",
      "Methods: ['findROI']\n",
      "Fields: ['targetPEs', 'roiFromAssign', 'kernel', 'targetCells', 'layerID', 'parentLayer', 'roiFromSrcCells', 'memoryLocation', 'sourcePEs', 'PE', 'Y', 'X', 'Z', 'sourceCells']\n"
     ]
    }
   ],
   "source": [
    "print network.peArray.pe[4][4].roiCells[1][9][0][0]\n"
   ]
  },
  {
   "cell_type": "code",
   "execution_count": 254,
   "metadata": {
    "collapsed": false
   },
   "outputs": [
    {
     "data": {
      "text/plain": [
       "array(<dnnConnectivityAndMemoryAllocation.Cell instance at 0x135a44248>, dtype=object)"
      ]
     },
     "execution_count": 254,
     "metadata": {},
     "output_type": "execute_result"
    }
   ],
   "source": [
    "network.peArray.pe[4][4].roiCells[1][9][0][0]"
   ]
  },
  {
   "cell_type": "code",
   "execution_count": 256,
   "metadata": {
    "collapsed": false
   },
   "outputs": [
    {
     "data": {
      "text/plain": [
       "<dnnConnectivityAndMemoryAllocation.Cell instance at 0x135a44248>"
      ]
     },
     "execution_count": 256,
     "metadata": {},
     "output_type": "execute_result"
    }
   ],
   "source": [
    "network.Layers[0].cells[9][29][25]"
   ]
  },
  {
   "cell_type": "code",
   "execution_count": 268,
   "metadata": {
    "collapsed": false
   },
   "outputs": [],
   "source": [
    "network.Layers[0].cells[9][29][25].X = 55"
   ]
  },
  {
   "cell_type": "code",
   "execution_count": 270,
   "metadata": {
    "collapsed": false
   },
   "outputs": [
    {
     "name": "stdout",
     "output_type": "stream",
     "text": [
      "\n",
      "Cell\n",
      "ID{Z,Y,X} : 9,29,55\n",
      "PE{Y,X} : 4,3\n",
      "Methods: ['findROI']\n",
      "Fields: ['targetPEs', 'roiFromAssign', 'kernel', 'targetCells', 'layerID', 'parentLayer', 'roiFromSrcCells', 'memoryLocation', 'sourcePEs', 'PE', 'Y', 'X', 'Z', 'sourceCells']\n"
     ]
    }
   ],
   "source": [
    "print network.peArray.pe[4][4].roiCells[1][9][0][0]"
   ]
  },
  {
   "cell_type": "code",
   "execution_count": 272,
   "metadata": {
    "collapsed": false
   },
   "outputs": [
    {
     "name": "stdout",
     "output_type": "stream",
     "text": [
      "\n",
      "Cell\n",
      "ID{Z,Y,X} : 9,29,55\n",
      "PE{Y,X} : 4,3\n",
      "Methods: ['findROI']\n",
      "Fields: ['targetPEs', 'roiFromAssign', 'kernel', 'targetCells', 'layerID', 'parentLayer', 'roiFromSrcCells', 'memoryLocation', 'sourcePEs', 'PE', 'Y', 'X', 'Z', 'sourceCells']\n"
     ]
    }
   ],
   "source": [
    "print network.Layers[0].cells[9][29][25]"
   ]
  }
 ],
 "metadata": {
  "kernelspec": {
   "display_name": "Python 2",
   "language": "python",
   "name": "python2"
  },
  "language_info": {
   "codemirror_mode": {
    "name": "ipython",
    "version": 2
   },
   "file_extension": ".py",
   "mimetype": "text/x-python",
   "name": "python",
   "nbconvert_exporter": "python",
   "pygments_lexer": "ipython2",
   "version": "2.7.10"
  }
 },
 "nbformat": 4,
 "nbformat_minor": 0
}
