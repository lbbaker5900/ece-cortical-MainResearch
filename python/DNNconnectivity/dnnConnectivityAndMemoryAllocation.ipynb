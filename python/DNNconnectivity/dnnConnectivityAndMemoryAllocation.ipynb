{
 "cells": [
  {
   "cell_type": "code",
   "execution_count": 2,
   "metadata": {
    "collapsed": false,
    "scrolled": true
   },
   "outputs": [
    {
     "ename": "SyntaxError",
     "evalue": "invalid syntax (<ipython-input-2-8ea824fbd00a>, line 1)",
     "output_type": "error",
     "traceback": [
      "\u001b[0;36m  File \u001b[0;32m\"<ipython-input-2-8ea824fbd00a>\"\u001b[0;36m, line \u001b[0;32m1\u001b[0m\n\u001b[0;31m    pylab inline\u001b[0m\n\u001b[0m               ^\u001b[0m\n\u001b[0;31mSyntaxError\u001b[0m\u001b[0;31m:\u001b[0m invalid syntax\n"
     ]
    }
   ],
   "source": [
    "pylab inline\n",
    "# /bin/rm ~/.cache/fontconfig/*\n"
   ]
  },
  {
   "cell_type": "code",
   "execution_count": null,
   "metadata": {
    "collapsed": false
   },
   "outputs": [
    {
     "name": "stdout",
     "output_type": "stream",
     "text": [
      "dc not loaded yet\n"
     ]
    }
   ],
   "source": [
    "try:\n",
    "    reload(dc)\n",
    "    print  'dc reloaded'\n",
    "except Exception:\n",
    "    print 'dc not loaded yet'\n",
    "    "
   ]
  },
  {
   "cell_type": "code",
   "execution_count": null,
   "metadata": {
    "collapsed": false
   },
   "outputs": [],
   "source": [
    "WORDSIZE = 32\n",
    "import dnnConnectivityAndMemoryAllocation as dc\n",
    "import numpy as np\n",
    "\n",
    "# Create memory\n",
    "mainMemoryConfig = dc.MemoryConfiguration(2,32,8,4096)\n",
    "mainMemory = dc.Memory(mainMemoryConfig)\n",
    "\n",
    "# Create DNN\n",
    "network = dc.Network()\n",
    "#                                    X    Y    Z    Kx   Ky   Kz   stride\n",
    "#network.addLayer('Input',          224, 224,    3                      ) #    3 \n",
    "#network.addLayer('Convolutional',   55,  55,   96,   11,  11,    3,   4 ) #   96,\n",
    "#network.addLayer('Convolutional',   27,  27,  256,    5,   5,   96,   2 ) #  256,\n",
    "# network.addLayer('Convolutional',   13,  13,  384,    3,   3,  256,   2 ) #  384,\n",
    "# network.addLayer('Convolutional',   13,  13,  384,    3,   3,  384,   1 ) #  384,\n",
    "# network.addLayer('Fully Connected', 13,  13,  256,    3,   3,  384,   1 ) #  256,\n",
    "# network.addLayer('Fully Connected',  1,   1, 4096,   13,  13,  256,   1 ) # 4096,\n",
    "# network.addLayer('Fully Connected',  1,   1, 4096,    1,   1, 4096,   1 ) # 4096,\n",
    "# network.addLayer('Fully Connected',  1,   1, 1024,    1,   1, 4096,   1 ) # 1024,\n",
    "\n",
    "#network.addLayer('Input',          224, 224,    3                       ) #    3 \n",
    "#network.addLayer('Convolutional',   55,  55,    4,    8,   8,    3,   4 ) #   96,\n",
    "network.addLayer('Input',           55,  55,    4,                      ) #   96,\n",
    "network.addLayer('Convolutional',   27,  27,    8,    5,   5,    4,   2 ) #  256,\n",
    "#network.addLayer('Convolutional',   13,  13,    4,    3,   3,    8,   2 ) #  384,\n",
    "#network.addLayer('Convolutional',   13,  13,    2,    3,   3,    4,   1 ) #  384,\n",
    "#network.addLayer('Fully Connected', 13,  13,    6,    3,   3,    8,   1 ) #  256,\n",
    "#network.addLayer('Fully Connected',  1,   1,    6,   13,  13,    6,   1 ) # 4096,\n",
    "#network.addLayer('Fully Connected',  1,   1,    4,    1,   1,    6,   1 ) # 4096,\n",
    "#network.addLayer('Fully Connected',  1,   1,    4,    1,   1,    4,   1 ) # 1024,\n",
    "\n",
    "   \n",
    "\n",
    "network.assignPEs('linearAll')\n",
    "\n",
    "\n",
    "\n",
    "\n"
   ]
  },
  {
   "cell_type": "code",
   "execution_count": null,
   "metadata": {
    "collapsed": false
   },
   "outputs": [],
   "source": [
    "for l in range(1, network.numberOfLayers):\n",
    "  network.Layers[l].generateConnections()\n"
   ]
  },
  {
   "cell_type": "code",
   "execution_count": null,
   "metadata": {
    "collapsed": false
   },
   "outputs": [],
   "source": [
    "for layerID in range(0,network.numberOfLayers-1):\n",
    "  pass\n",
    "  network.Layers[layerID].displayTargetPECounts()\n"
   ]
  },
  {
   "cell_type": "code",
   "execution_count": null,
   "metadata": {
    "collapsed": false
   },
   "outputs": [],
   "source": [
    "layerID = 0\n",
    "numOfPEs = network.Layers[layerID].getTargetPECounts()\n",
    "\n"
   ]
  },
  {
   "cell_type": "code",
   "execution_count": null,
   "metadata": {
    "collapsed": false
   },
   "outputs": [],
   "source": [
    "opt = np.get_printoptions()\n",
    "np.set_printoptions(threshold=np.inf)\n",
    "#print numOfPEs\n",
    "#print numOfPEs.shape\n",
    "np.set_printoptions(threshold=1000)\n"
   ]
  },
  {
   "cell_type": "code",
   "execution_count": null,
   "metadata": {
    "collapsed": false,
    "scrolled": true
   },
   "outputs": [],
   "source": [
    "#coords = np.array([[0,0],[10,10]])\n",
    "#network.Layers[1].displayTargetPECountsRegion(coords)"
   ]
  },
  {
   "cell_type": "code",
   "execution_count": null,
   "metadata": {
    "collapsed": false
   },
   "outputs": [],
   "source": [
    "pLine = ''\n",
    "for layerID in range(1,network.numberOfLayers):\n",
    "  for peY in range(network.peY) :\n",
    "    for peX in range(network.peX) :\n",
    "      nv = network.peArray.pe[peY][peX].findROI(layerID)\n",
    "      pLine = pLine + '{0:12},{1:12}  |  '.format(nv[0], nv[1])\n",
    "      network.managerArray.manager[peY][peX].memCpyROI(layerID)\n",
    "    pLine = pLine + '\\n'\n",
    "  pLine = pLine + '\\n------------------------------------------------------------'\n",
    "#print pLine\n",
    "#print nv[0]\n",
    "#print nv[1]\n",
    "\n",
    "  \n"
   ]
  },
  {
   "cell_type": "code",
   "execution_count": null,
   "metadata": {
    "collapsed": false
   },
   "outputs": [],
   "source": [
    "layerID = 1\n",
    "allocationOptions = dc.MemoryAllocationOptions(0,1,0,2,0,2,0,1,'Y')\n",
    "network.managerArray.manager[0][0].allocateMemory(mainMemory, layerID, allocationOptions)\n",
    "for y in range(network.managerArray.manager[0][0].roiCells[layerID][0].__len__()):\n",
    "  for x in range(network.managerArray.manager[0][0].roiCells[layerID][0][0].__len__()):\n",
    "    for z in range(network.managerArray.manager[0][0].roiCells[layerID].__len__()):\n",
    "        pass\n",
    "        #print network.managerArray.manager[0][0].roiCells[layerID][z][y][x]\n"
   ]
  },
  {
   "cell_type": "code",
   "execution_count": null,
   "metadata": {
    "collapsed": false
   },
   "outputs": [],
   "source": [
    "pLine = ''\n",
    "for layerID in range(0,network.numberOfLayers):\n",
    "    for y in range(network.peY) :\n",
    "        for x in range(network.peX) :\n",
    "            #print network.managerArray.manager[y][x]\n",
    "            #print network.managerArray.manager[y][x].pe\n",
    "            pLine = pLine + '{0:5}'.format(str(network.managerArray.manager[y][x].pe.cellsProcessed[layerID].__len__()))\n",
    "            #for c in network.managerArray.manager[y][x].pe.cellsProcessed[layerID] : \n",
    "            #    nv = c.findROI()\n",
    "            #    print c\n",
    "        pLine = pLine + '\\n'\n",
    "    pLine = pLine + '\\n\\n'\n",
    "#print pLine"
   ]
  },
  {
   "cell_type": "code",
   "execution_count": null,
   "metadata": {
    "collapsed": false
   },
   "outputs": [],
   "source": [
    "for l in in range(0,network.numberOfLayers):\n",
    "    network.peArray.createProcessedCellsMovie(l)\n",
    "\n"
   ]
  },
  {
   "cell_type": "code",
   "execution_count": null,
   "metadata": {
    "collapsed": false
   },
   "outputs": [],
   "source": [
    "\n"
   ]
  }
 ],
 "metadata": {
  "kernelspec": {
   "display_name": "Python 2",
   "language": "python",
   "name": "python2"
  },
  "language_info": {
   "codemirror_mode": {
    "name": "ipython",
    "version": 2
   },
   "file_extension": ".py",
   "mimetype": "text/x-python",
   "name": "python",
   "nbconvert_exporter": "python",
   "pygments_lexer": "ipython2",
   "version": "2.7.10"
  }
 },
 "nbformat": 4,
 "nbformat_minor": 0
}
