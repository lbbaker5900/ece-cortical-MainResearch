{
 "cells": [
  {
   "cell_type": "code",
   "execution_count": 1,
   "metadata": {
    "collapsed": false,
    "scrolled": true
   },
   "outputs": [
    {
     "name": "stderr",
     "output_type": "stream",
     "text": [
      "/Library/Python/2.7/site-packages/matplotlib/font_manager.py:273: UserWarning: Matplotlib is building the font cache using fc-list. This may take a moment.\n",
      "  warnings.warn('Matplotlib is building the font cache using fc-list. This may take a moment.')\n"
     ]
    },
    {
     "name": "stdout",
     "output_type": "stream",
     "text": [
      "Populating the interactive namespace from numpy and matplotlib\n"
     ]
    }
   ],
   "source": [
    "pylab inline"
   ]
  },
  {
   "cell_type": "code",
   "execution_count": 2,
   "metadata": {
    "collapsed": false
   },
   "outputs": [
    {
     "name": "stdout",
     "output_type": "stream",
     "text": [
      "dc not loaded yet\n"
     ]
    }
   ],
   "source": [
    "try:\n",
    "    reload(dc)\n",
    "    print  'dc reloaded'\n",
    "except Exception:\n",
    "    print 'dc not loaded yet'\n",
    "    "
   ]
  },
  {
   "cell_type": "code",
   "execution_count": 3,
   "metadata": {
    "collapsed": false
   },
   "outputs": [
    {
     "name": "stdout",
     "output_type": "stream",
     "text": [
      "Layer  0  left Kernel offset is  0 , top Kernel offset is  0\n",
      "Layer  1  left Kernel offset is  -2 , top Kernel offset is  -2\n",
      "Layer  2  left Kernel offset is  -1 , top Kernel offset is  -1\n"
     ]
    }
   ],
   "source": [
    "import dnnConnectivityAndMemoryAllocation as dc\n",
    "\n",
    "# Create memory\n",
    "memory = dc.Memory(2,32,8,4096)\n",
    "\n",
    "# Create DNN\n",
    "network = dc.Network()\n",
    "#                                    X    Y    Z    Kx   Ky   Kz   stride\n",
    "network.addLayer('Input',          224, 224,    3                      ) #    3 \n",
    "network.addLayer('Convolutional',   55,  55,   96,   11,  11,    3,   4 ) #   96,\n",
    "network.addLayer('Convolutional',   27,  27,  256,    5,   5,   96,   2 ) #  256,\n",
    "# network.addLayer('Convolutional',   13,  13,  384,    3,   3,  256,   2 ) #  384,\n",
    "# network.addLayer('Convolutional',   13,  13,  384,    3,   3,  384,   1 ) #  384,\n",
    "# network.addLayer('Fully Connected', 13,  13,  256,    3,   3,  384,   1 ) #  256,\n",
    "# network.addLayer('Fully Connected',  1,   1, 4096,   13,  13,  256,   1 ) # 4096,\n",
    "# network.addLayer('Fully Connected',  1,   1, 4096,    1,   1, 4096,   1 ) # 4096,\n",
    "# network.addLayer('Fully Connected',  1,   1, 1024,    1,   1, 4096,   1 ) # 1024,\n",
    "\n",
    "#network.addLayer('Input',          224, 224,    3                      ) #    3 \n",
    "#network.addLayer('Convolutional',   55,  55,   10,   11,  11,    3,   4 ) #   96,\n",
    "#network.addLayer('Input',           55,  55,    3,                      ) #   96,\n",
    "#network.addLayer('Convolutional',   27,  27,    5,    5,   5,    3,   2 ) #  256,\n",
    "#network.addLayer('Convolutional',   13,  13,   10,    3,   3,    5,   2 ) #  384,\n",
    "#network.addLayer('Convolutional',   13,  13,    8,    3,   3,   10,   1 ) #  384,\n",
    "#network.addLayer('Fully Connected', 13,  13,    6,    3,   3,    8,   1 ) #  256,\n",
    "#network.addLayer('Fully Connected',  1,   1,    6,   13,  13,    6,   1 ) # 4096,\n",
    "#network.addLayer('Fully Connected',  1,   1,    4,    1,   1,    6,   1 ) # 4096,\n",
    "#network.addLayer('Fully Connected',  1,   1,    4,    1,   1,    4,   1 ) # 1024,\n",
    "\n",
    "network.assignPEs()\n",
    "\n",
    "\n",
    "\n",
    "\n"
   ]
  },
  {
   "cell_type": "code",
   "execution_count": 4,
   "metadata": {
    "collapsed": false
   },
   "outputs": [
    {
     "name": "stdout",
     "output_type": "stream",
     "text": [
      "Updating Layer 1 connections for features in row :0\n",
      "Updating Layer 1 connections for features in row :1\n",
      "Updating Layer 1 connections for features in row :2\n",
      "Updating Layer 1 connections for features in row :3\n",
      "Updating Layer 1 connections for features in row :4\n",
      "Updating Layer 1 connections for features in row :5\n",
      "Updating Layer 1 connections for features in row :6\n"
     ]
    },
    {
     "ename": "KeyboardInterrupt",
     "evalue": "",
     "output_type": "error",
     "traceback": [
      "\u001b[0;31m---------------------------------------------------------------------------\u001b[0m",
      "\u001b[0;31mKeyboardInterrupt\u001b[0m                         Traceback (most recent call last)",
      "\u001b[0;32m<ipython-input-4-8c0403e1bb21>\u001b[0m in \u001b[0;36m<module>\u001b[0;34m()\u001b[0m\n\u001b[1;32m      1\u001b[0m \u001b[0;32mfor\u001b[0m \u001b[0ml\u001b[0m \u001b[0;32min\u001b[0m \u001b[0mrange\u001b[0m\u001b[0;34m(\u001b[0m\u001b[0;36m1\u001b[0m\u001b[0;34m,\u001b[0m \u001b[0mnetwork\u001b[0m\u001b[0;34m.\u001b[0m\u001b[0mnumberOfLayers\u001b[0m\u001b[0;34m)\u001b[0m\u001b[0;34m:\u001b[0m\u001b[0;34m\u001b[0m\u001b[0m\n\u001b[0;32m----> 2\u001b[0;31m   \u001b[0mnetwork\u001b[0m\u001b[0;34m.\u001b[0m\u001b[0mLayers\u001b[0m\u001b[0;34m[\u001b[0m\u001b[0ml\u001b[0m\u001b[0;34m]\u001b[0m\u001b[0;34m.\u001b[0m\u001b[0mgenerateConnections\u001b[0m\u001b[0;34m(\u001b[0m\u001b[0;34m)\u001b[0m\u001b[0;34m\u001b[0m\u001b[0m\n\u001b[0m",
      "\u001b[0;32m/Users/lbbaker/Documents/workspace/python/DNNconnectivity/dnnConnectivityAndMemoryAllocation.py\u001b[0m in \u001b[0;36mgenerateConnections\u001b[0;34m(self)\u001b[0m\n\u001b[1;32m    497\u001b[0m                             \u001b[0;32mfor\u001b[0m \u001b[0mfSrcCell\u001b[0m \u001b[0;32min\u001b[0m \u001b[0mrange\u001b[0m\u001b[0;34m(\u001b[0m\u001b[0mself\u001b[0m\u001b[0;34m.\u001b[0m\u001b[0mparentNetwork\u001b[0m\u001b[0;34m.\u001b[0m\u001b[0mLayers\u001b[0m\u001b[0;34m[\u001b[0m\u001b[0mself\u001b[0m\u001b[0;34m.\u001b[0m\u001b[0mlayerID\u001b[0m\u001b[0;34m-\u001b[0m\u001b[0;36m1\u001b[0m\u001b[0;34m]\u001b[0m\u001b[0;34m.\u001b[0m\u001b[0mZ\u001b[0m\u001b[0;34m)\u001b[0m \u001b[0;34m:\u001b[0m\u001b[0;34m\u001b[0m\u001b[0m\n\u001b[1;32m    498\u001b[0m \u001b[0;34m\u001b[0m\u001b[0m\n\u001b[0;32m--> 499\u001b[0;31m                                 \u001b[0msrcPE\u001b[0m   \u001b[0;34m=\u001b[0m \u001b[0mself\u001b[0m\u001b[0;34m.\u001b[0m\u001b[0mparentNetwork\u001b[0m\u001b[0;34m.\u001b[0m\u001b[0mLayers\u001b[0m\u001b[0;34m[\u001b[0m\u001b[0mself\u001b[0m\u001b[0;34m.\u001b[0m\u001b[0mlayerID\u001b[0m\u001b[0;34m-\u001b[0m\u001b[0;36m1\u001b[0m\u001b[0;34m]\u001b[0m\u001b[0;34m.\u001b[0m\u001b[0mcells\u001b[0m\u001b[0;34m[\u001b[0m\u001b[0mfSrcCell\u001b[0m\u001b[0;34m]\u001b[0m\u001b[0;34m[\u001b[0m\u001b[0mySrcCell\u001b[0m\u001b[0;34m]\u001b[0m\u001b[0;34m[\u001b[0m\u001b[0mxSrcCell\u001b[0m\u001b[0;34m]\u001b[0m\u001b[0;34m.\u001b[0m\u001b[0mPE\u001b[0m\u001b[0;34m\u001b[0m\u001b[0m\n\u001b[0m\u001b[1;32m    500\u001b[0m                                 \u001b[0msrcCell\u001b[0m \u001b[0;34m=\u001b[0m \u001b[0mself\u001b[0m\u001b[0;34m.\u001b[0m\u001b[0mparentNetwork\u001b[0m\u001b[0;34m.\u001b[0m\u001b[0mLayers\u001b[0m\u001b[0;34m[\u001b[0m\u001b[0mself\u001b[0m\u001b[0;34m.\u001b[0m\u001b[0mlayerID\u001b[0m\u001b[0;34m-\u001b[0m\u001b[0;36m1\u001b[0m\u001b[0;34m]\u001b[0m\u001b[0;34m.\u001b[0m\u001b[0mcells\u001b[0m\u001b[0;34m[\u001b[0m\u001b[0mfSrcCell\u001b[0m\u001b[0;34m]\u001b[0m\u001b[0;34m[\u001b[0m\u001b[0mySrcCell\u001b[0m\u001b[0;34m]\u001b[0m\u001b[0;34m[\u001b[0m\u001b[0mxSrcCell\u001b[0m\u001b[0;34m]\u001b[0m\u001b[0;34m\u001b[0m\u001b[0m\n\u001b[1;32m    501\u001b[0m \u001b[0;34m\u001b[0m\u001b[0m\n",
      "\u001b[0;31mKeyboardInterrupt\u001b[0m: "
     ]
    }
   ],
   "source": [
    "for l in range(1, network.numberOfLayers):\n",
    "  network.Layers[l].generateConnections()\n"
   ]
  },
  {
   "cell_type": "code",
   "execution_count": null,
   "metadata": {
    "collapsed": false
   },
   "outputs": [],
   "source": [
    "network.Layers[0].displayTargetPECounts()\n"
   ]
  },
  {
   "cell_type": "code",
   "execution_count": null,
   "metadata": {
    "collapsed": false
   },
   "outputs": [],
   "source": [
    "lid = 0\n",
    "numOfPEs = network.Layers[lid].getTargetPECounts()\n"
   ]
  },
  {
   "cell_type": "code",
   "execution_count": null,
   "metadata": {
    "collapsed": false
   },
   "outputs": [],
   "source": [
    "opt = np.get_printoptions()\n",
    "np.set_printoptions(threshold=np.inf)\n",
    "#print numOfPEs\n",
    "np.set_printoptions(threshold=1000)\n",
    "\n"
   ]
  },
  {
   "cell_type": "code",
   "execution_count": null,
   "metadata": {
    "collapsed": false,
    "scrolled": true
   },
   "outputs": [],
   "source": [
    "#region = np.array([50,65,45,65])\n",
    "region = np.array([12,20,9,21])\n",
    "network.Layers[0].displayTargetPECountsRegion(region)"
   ]
  },
  {
   "cell_type": "code",
   "execution_count": null,
   "metadata": {
    "collapsed": false
   },
   "outputs": [],
   "source": [
    "layerID = 1\n",
    "for peY in range(network.peY) :\n",
    "  for peX in range(network.peX) :\n",
    "    network.peArray.pe[peY][peX].findROI(layerID)\n",
    "    network.managerArray.manager[peY][peX].memCpyROI(layerID)\n"
   ]
  },
  {
   "cell_type": "code",
   "execution_count": null,
   "metadata": {
    "collapsed": false,
    "scrolled": true
   },
   "outputs": [],
   "source": [
    "tempZ = network.managerArray.manager[4][4].roiCells[1][1][0][0].Z\n",
    "tempY = network.managerArray.manager[4][4].roiCells[1][1][0][0].Y\n",
    "tempX = network.managerArray.manager[4][4].roiCells[1][1][0][0].X\n",
    "network.managerArray.manager[4][4].roiCells[1][1][0][0]\n"
   ]
  },
  {
   "cell_type": "code",
   "execution_count": null,
   "metadata": {
    "collapsed": false,
    "scrolled": true
   },
   "outputs": [],
   "source": [
    "print network.managerArray.manager[4][4].roiCells[1][1][0][0]"
   ]
  },
  {
   "cell_type": "code",
   "execution_count": null,
   "metadata": {
    "collapsed": true
   },
   "outputs": [],
   "source": []
  },
  {
   "cell_type": "code",
   "execution_count": null,
   "metadata": {
    "collapsed": false
   },
   "outputs": [],
   "source": [
    "network.managerArray.manager[4][4].roiCells[1][1][0][0].memoryLocation"
   ]
  },
  {
   "cell_type": "code",
   "execution_count": null,
   "metadata": {
    "collapsed": false
   },
   "outputs": [],
   "source": [
    "network.managerArray.manager[4][4].roiCells[1][1][0][0].originalCell"
   ]
  },
  {
   "cell_type": "code",
   "execution_count": null,
   "metadata": {
    "collapsed": false
   },
   "outputs": [],
   "source": [
    "network.Layers[0].cells[tempZ][tempY][tempX]"
   ]
  },
  {
   "cell_type": "code",
   "execution_count": null,
   "metadata": {
    "collapsed": false
   },
   "outputs": [],
   "source": [
    "print network.Layers[0].cells[tempZ][tempY][tempX]"
   ]
  },
  {
   "cell_type": "code",
   "execution_count": null,
   "metadata": {
    "collapsed": false
   },
   "outputs": [],
   "source": [
    "network.Layers[0].cells[tempZ][tempY][tempX].memoryLocation"
   ]
  },
  {
   "cell_type": "code",
   "execution_count": null,
   "metadata": {
    "collapsed": false
   },
   "outputs": [],
   "source": [
    "network.Layers[0].cells[tempZ][tempY][tempX].copiedTo"
   ]
  },
  {
   "cell_type": "code",
   "execution_count": null,
   "metadata": {
    "collapsed": false
   },
   "outputs": [],
   "source": [
    "network.managerArray.manager[0][0].allocateMemory(memory,layerID)\n",
    "for y in range(network.managerArray.manager[0][0].roiCells[layerID][0].__len__()):\n",
    "  for x in range(network.managerArray.manager[0][0].roiCells[layerID][0][0].__len__()):\n",
    "    for z in range(network.managerArray.manager[0][0].roiCells[layerID].__len__()):\n",
    "        print network.managerArray.manager[0][0].roiCells[layerID][z][y][x]\n"
   ]
  },
  {
   "cell_type": "code",
   "execution_count": null,
   "metadata": {
    "collapsed": false
   },
   "outputs": [],
   "source": [
    "roiCells = network.managerArray.manager[0][0].roiCells \n",
    "\n",
    "initialChannel   = 0\n",
    "channelIncrement = 1\n",
    "initialBank      = 0\n",
    "bankIncrement    = 2\n",
    "initialPage      = 0\n",
    "pageIncrement    = 2\n",
    "initialWord      = 0\n",
    "wordIncrement    = 1\n",
    "padWordRadix2    = 'Y'\n",
    "\n",
    "# if the number of features is not radix-2, do we pad features to align radix-2\n",
    "numOfFeatures = roiCells[layerID].__len__()\n",
    "if padWordRadix2 is 'Y' :\n",
    "  numberOfAllocatedFeatures = 2**(math.ceil(math.log(numOfFeatures,2)))\n",
    "\n",
    "channel = initialChannel\n",
    "bank    = initialBank\n",
    "page    = initialPage\n",
    "word    = initialWord\n",
    "\n",
    "for y in range(roiCells[layerID][0].__len__()):\n",
    "  for x in range(roiCells[layerID][0][0].__len__()):\n",
    "    for z in range(roiCells[layerID].__len__()):\n",
    "      roiCells[layerID][z][y][x].memoryLocation.memory  = memory\n",
    "      roiCells[layerID][z][y][x].memoryLocation.channel = int(channel)\n",
    "      roiCells[layerID][z][y][x].memoryLocation.bank    = int(bank)\n",
    "      roiCells[layerID][z][y][x].memoryLocation.page    = int(page)\n",
    "      roiCells[layerID][z][y][x].memoryLocation.word    = int(word)\n",
    "      \n",
    "      channel = channel + channelIncrement\n",
    "      if channel == (memory.numOfChannels):\n",
    "        channel = 0\n",
    "        word = word + wordIncrement\n",
    "      if padWordRadix2 is 'Y' :\n",
    "        if word%numberOfAllocatedFeatures == numOfFeatures:\n",
    "            word = (int(word/numberOfAllocatedFeatures)+1) * numberOfAllocatedFeatures\n",
    "      if word == (memory.sizeOfPage/WORDSIZE):\n",
    "        word = 0\n",
    "        page = page + pageIncrement\n",
    "      \n",
    "      if page == (memory.numOfPagesPerBank):\n",
    "        page = 0\n",
    "        bank = bank + bankIncrement\n",
    "      \n",
    "      if bank == (memory.numOfBanksPerChannel):\n",
    "        bank = 0\n",
    "              \n",
    "for y in range(roiCells[layerID][0].__len__()):\n",
    "  for x in range(roiCells[layerID][0][0].__len__()):\n",
    "    for z in range(roiCells[layerID].__len__()):\n",
    "        print roiCells[layerID][z][y][x]\n"
   ]
  },
  {
   "cell_type": "code",
   "execution_count": null,
   "metadata": {
    "collapsed": false
   },
   "outputs": [],
   "source": [
    "print network.Layers[1].cells[0][25][25]\n"
   ]
  },
  {
   "cell_type": "code",
   "execution_count": null,
   "metadata": {
    "collapsed": false
   },
   "outputs": [],
   "source": [
    "print network.peArray.pe[3][3].getROI(1)"
   ]
  }
 ],
 "metadata": {
  "kernelspec": {
   "display_name": "Python 2",
   "language": "python",
   "name": "python2"
  },
  "language_info": {
   "codemirror_mode": {
    "name": "ipython",
    "version": 2
   },
   "file_extension": ".py",
   "mimetype": "text/x-python",
   "name": "python",
   "nbconvert_exporter": "python",
   "pygments_lexer": "ipython2",
   "version": "2.7.10"
  }
 },
 "nbformat": 4,
 "nbformat_minor": 0
}
