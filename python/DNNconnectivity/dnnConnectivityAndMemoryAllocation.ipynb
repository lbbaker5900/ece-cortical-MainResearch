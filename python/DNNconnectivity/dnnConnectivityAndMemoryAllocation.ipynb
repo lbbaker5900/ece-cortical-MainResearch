{
 "cells": [
  {
   "cell_type": "code",
   "execution_count": 1,
   "metadata": {
    "collapsed": false,
    "scrolled": true
   },
   "outputs": [
    {
     "ename": "SyntaxError",
     "evalue": "invalid syntax (<ipython-input-1-8ea824fbd00a>, line 1)",
     "output_type": "error",
     "traceback": [
      "\u001b[0;36m  File \u001b[0;32m\"<ipython-input-1-8ea824fbd00a>\"\u001b[0;36m, line \u001b[0;32m1\u001b[0m\n\u001b[0;31m    pylab inline\u001b[0m\n\u001b[0m               ^\u001b[0m\n\u001b[0;31mSyntaxError\u001b[0m\u001b[0;31m:\u001b[0m invalid syntax\n"
     ]
    }
   ],
   "source": [
    "pylab inline\n",
    "\n",
    "# /bin/rm ~/.cache/fontconfig/*\n"
   ]
  },
  {
   "cell_type": "code",
   "execution_count": 8,
   "metadata": {
    "collapsed": false
   },
   "outputs": [
    {
     "name": "stdout",
     "output_type": "stream",
     "text": [
      "dc reloaded\n"
     ]
    }
   ],
   "source": [
    "try:\n",
    "    reload(dc)\n",
    "    print  'dc reloaded'\n",
    "except Exception:\n",
    "    print 'dc not loaded yet'\n",
    "    \n",
    "WORDSIZE = 32\n",
    "import dnnConnectivityAndMemoryAllocation as dc\n",
    "import numpy as np\n",
    "import matplotlib.pyplot as plt\n",
    "\n",
    "    "
   ]
  },
  {
   "cell_type": "code",
   "execution_count": 9,
   "metadata": {
    "collapsed": false
   },
   "outputs": [],
   "source": [
    "# Create memory\n",
    "mainMemoryConfig = dc.MemoryConfiguration(numOfChannels=2,numOfBanksPerChannel=32,numOfPagesPerBank=8,sizeOfPage=4096)\n",
    "mainMemory = dc.Memory(mainMemoryConfig)\n",
    "\n"
   ]
  },
  {
   "cell_type": "code",
   "execution_count": 10,
   "metadata": {
    "collapsed": true
   },
   "outputs": [],
   "source": [
    "# Create DNN\n",
    "network = dc.Network()"
   ]
  },
  {
   "cell_type": "code",
   "execution_count": 11,
   "metadata": {
    "collapsed": true
   },
   "outputs": [],
   "source": [
    "#                                    X    Y    Z    Kx   Ky   Kz   stride\n",
    "#network.addLayer('Input',          224, 224,    3                      ) #    3 \n",
    "#network.addLayer('Convolutional',   55,  55,   96,   11,  11,    3,   4 ) #   96,\n",
    "#network.addLayer('Convolutional',   27,  27,  256,    5,   5,   96,   2 ) #  256,\n",
    "#network.addLayer('Convolutional',   13,  13,  384,    3,   3,  256,   2 ) #  384,\n",
    "# network.addLayer('Convolutional',   13,  13,  384,    3,   3,  384,   1 ) #  384,\n",
    "# network.addLayer('Fully Connected', 13,  13,  256,    3,   3,  384,   1 ) #  256,\n",
    "# network.addLayer('Fully Connected',  1,   1, 4096,   13,  13,  256,   1 ) # 4096,\n",
    "# network.addLayer('Fully Connected',  1,   1, 4096,    1,   1, 4096,   1 ) # 4096,\n",
    "# network.addLayer('Fully Connected',  1,   1, 1024,    1,   1, 4096,   1 ) # 1024,\n",
    "\n",
    "#network.addLayer('Input',           55,  55,    4,                      ) #   96,\n",
    "network.addLayer('Input',          224, 224,    3                       ) #    3 \n",
    "network.addLayer('Convolutional',   55,  55,    4,    8,   8,    3,   4 ) #   96,\n",
    "network.addLayer('Convolutional',   27,  27,    8,    5,   5,    4,   2 ) #  256,\n",
    "network.addLayer('Convolutional',   13,  13,    4,    3,   3,    8,   2 ) #  384,\n",
    "#network.addLayer('Convolutional',   13,  13,    2,    3,   3,    4,   1 ) #  384,\n",
    "#network.addLayer('Fully Connected', 13,  13,    6,    3,   3,    8,   1 ) #  256,\n",
    "#network.addLayer('Fully Connected',  1,   1,    6,   13,  13,    6,   1 ) # 4096,\n",
    "#network.addLayer('Fully Connected',  1,   1,    4,    1,   1,    6,   1 ) # 4096,\n",
    "#network.addLayer('Fully Connected',  1,   1,    4,    1,   1,    4,   1 ) # 1024,\n",
    "\n"
   ]
  },
  {
   "cell_type": "code",
   "execution_count": 12,
   "metadata": {
    "collapsed": false
   },
   "outputs": [
    {
     "name": "stdout",
     "output_type": "stream",
     "text": [
      "Layer  0  left Kernel offset is  0 , top Kernel offset is  0\n",
      "Layer  1  left Kernel offset is  0 , top Kernel offset is  0\n",
      "Layer  2  left Kernel offset is  -1 , top Kernel offset is  -1\n",
      "Layer  3  left Kernel offset is  0 , top Kernel offset is  0\n"
     ]
    }
   ],
   "source": [
    "# Create processing engines and assign each layers cell to the array of PEs\n",
    "#print '{0}:{1}:Assign PEs:'.format(__FILE__(), __LINE__())\n",
    "network.assignPEs('linearAll')\n"
   ]
  },
  {
   "cell_type": "code",
   "execution_count": 13,
   "metadata": {
    "collapsed": true
   },
   "outputs": [],
   "source": [
    "# Create Manager and assign array memory type\n",
    "#print '{0}:{1}:Assign Managers:'.format(__FILE__(), __LINE__())\n",
    "mgrMemoryConfig = dc.MemoryConfiguration(numOfChannels=2,numOfBanksPerChannel=32,numOfPagesPerBank=32,sizeOfPage=4096)\n",
    "network.assignManagers(mgrMemoryConfig)\n"
   ]
  },
  {
   "cell_type": "code",
   "execution_count": 14,
   "metadata": {
    "collapsed": false
   },
   "outputs": [
    {
     "name": "stdout",
     "output_type": "stream",
     "text": [
      "Updating Layer 1 connections for features in row :0\n",
      "Updating Layer 1 connections for features in row :1\n",
      "Updating Layer 1 connections for features in row :2\n",
      "Updating Layer 1 connections for features in row :3\n",
      "Updating Layer 1 connections for features in row :4\n",
      "Updating Layer 1 connections for features in row :5\n",
      "Updating Layer 1 connections for features in row :6\n",
      "Updating Layer 1 connections for features in row :7\n",
      "Updating Layer 1 connections for features in row :8\n",
      "Updating Layer 1 connections for features in row :9\n",
      "Updating Layer 1 connections for features in row :10\n",
      "Updating Layer 1 connections for features in row :11\n",
      "Updating Layer 1 connections for features in row :12\n",
      "Updating Layer 1 connections for features in row :13\n",
      "Updating Layer 1 connections for features in row :14\n",
      "Updating Layer 1 connections for features in row :15\n",
      "Updating Layer 1 connections for features in row :16\n",
      "Updating Layer 1 connections for features in row :17\n",
      "Updating Layer 1 connections for features in row :18\n",
      "Updating Layer 1 connections for features in row :19\n",
      "Updating Layer 1 connections for features in row :20\n",
      "Updating Layer 1 connections for features in row :21\n",
      "Updating Layer 1 connections for features in row :22\n",
      "Updating Layer 1 connections for features in row :23\n",
      "Updating Layer 1 connections for features in row :24\n",
      "Updating Layer 1 connections for features in row :25\n",
      "Updating Layer 1 connections for features in row :26\n",
      "Updating Layer 1 connections for features in row :27\n",
      "Updating Layer 1 connections for features in row :28\n",
      "Updating Layer 1 connections for features in row :29\n",
      "Updating Layer 1 connections for features in row :30\n",
      "Updating Layer 1 connections for features in row :31\n",
      "Updating Layer 1 connections for features in row :32\n",
      "Updating Layer 1 connections for features in row :33\n",
      "Updating Layer 1 connections for features in row :34\n",
      "Updating Layer 1 connections for features in row :35\n",
      "Updating Layer 1 connections for features in row :36\n",
      "Updating Layer 1 connections for features in row :37\n",
      "Updating Layer 1 connections for features in row :38\n",
      "Updating Layer 1 connections for features in row :39\n",
      "Updating Layer 1 connections for features in row :40\n",
      "Updating Layer 1 connections for features in row :41\n",
      "Updating Layer 1 connections for features in row :42\n",
      "Updating Layer 1 connections for features in row :43\n",
      "Updating Layer 1 connections for features in row :44\n",
      "Updating Layer 1 connections for features in row :45\n",
      "Updating Layer 1 connections for features in row :46\n",
      "Updating Layer 1 connections for features in row :47\n",
      "Updating Layer 1 connections for features in row :48\n",
      "Updating Layer 1 connections for features in row :49\n",
      "Updating Layer 1 connections for features in row :50\n",
      "Updating Layer 1 connections for features in row :51\n",
      "Updating Layer 1 connections for features in row :52\n",
      "Updating Layer 1 connections for features in row :53\n",
      "Updating Layer 1 connections for features in row :54\n",
      "Removing duplicates in source and target cell lists of Layers 1 and 0 respectively\n",
      "Connections complete from Layer 0 to 1\n",
      "Updating Layer 2 connections for features in row :0\n",
      "Updating Layer 2 connections for features in row :1\n",
      "Updating Layer 2 connections for features in row :2\n",
      "Updating Layer 2 connections for features in row :3\n",
      "Updating Layer 2 connections for features in row :4\n",
      "Updating Layer 2 connections for features in row :5\n",
      "Updating Layer 2 connections for features in row :6\n",
      "Updating Layer 2 connections for features in row :7\n",
      "Updating Layer 2 connections for features in row :8\n",
      "Updating Layer 2 connections for features in row :9\n",
      "Updating Layer 2 connections for features in row :10\n",
      "Updating Layer 2 connections for features in row :11\n",
      "Updating Layer 2 connections for features in row :12\n",
      "Updating Layer 2 connections for features in row :13\n",
      "Updating Layer 2 connections for features in row :14\n",
      "Updating Layer 2 connections for features in row :15\n",
      "Updating Layer 2 connections for features in row :16\n",
      "Updating Layer 2 connections for features in row :17\n",
      "Updating Layer 2 connections for features in row :18\n",
      "Updating Layer 2 connections for features in row :19\n",
      "Updating Layer 2 connections for features in row :20\n",
      "Updating Layer 2 connections for features in row :21\n",
      "Updating Layer 2 connections for features in row :22\n",
      "Updating Layer 2 connections for features in row :23\n",
      "Updating Layer 2 connections for features in row :24\n",
      "Updating Layer 2 connections for features in row :25\n",
      "Updating Layer 2 connections for features in row :26\n",
      "Removing duplicates in source and target cell lists of Layers 2 and 1 respectively\n",
      "Connections complete from Layer 1 to 2\n",
      "Updating Layer 3 connections for features in row :0\n",
      "Updating Layer 3 connections for features in row :1\n",
      "Updating Layer 3 connections for features in row :2\n",
      "Updating Layer 3 connections for features in row :3\n",
      "Updating Layer 3 connections for features in row :4\n",
      "Updating Layer 3 connections for features in row :5\n",
      "Updating Layer 3 connections for features in row :6\n",
      "Updating Layer 3 connections for features in row :7\n",
      "Updating Layer 3 connections for features in row :8\n",
      "Updating Layer 3 connections for features in row :9\n",
      "Updating Layer 3 connections for features in row :10\n",
      "Updating Layer 3 connections for features in row :11\n",
      "Updating Layer 3 connections for features in row :12\n",
      "Removing duplicates in source and target cell lists of Layers 3 and 2 respectively\n",
      "Connections complete from Layer 2 to 3\n"
     ]
    }
   ],
   "source": [
    "for l in range(1, network.numberOfLayers):\n",
    "      #print '{0}:{1}:Generate connections for layer {2}:'.format(__FILE__(), __LINE__(), l)\n",
    "      network.Layers[l].generateConnections()\n",
    "\n"
   ]
  },
  {
   "cell_type": "code",
   "execution_count": 15,
   "metadata": {
    "collapsed": false
   },
   "outputs": [],
   "source": [
    "for l in range(1, network.numberOfLayers):\n",
    "        #print '{0}:{1}:Determine ROI for layer {2}:'.format(__FILE__(), __LINE__(), l)\n",
    "        network.peArray.findROIall(l)  \n",
    "\n"
   ]
  },
  {
   "cell_type": "code",
   "execution_count": 16,
   "metadata": {
    "collapsed": false
   },
   "outputs": [],
   "source": [
    "peMemoryAllocationOptions = dc.MemoryAllocationOptions( order             = ['c', 'b', 'p', 'w'],\n",
    "                                                        initialChannel    =  0 , \n",
    "                                                        channelIncrement  =  1 , \n",
    "                                                        initialBank       =  0 , \n",
    "                                                        bankIncrement     =  2 , \n",
    "                                                        initialPage       =  0 , \n",
    "                                                        pageIncrement     =  2 , \n",
    "                                                        initialWord       =  0 , \n",
    "                                                        wordIncrement     =  1 , \n",
    "                                                        padWordRadix2     = 'Y')\n",
    "\n",
    "\n"
   ]
  },
  {
   "cell_type": "code",
   "execution_count": null,
   "metadata": {
    "collapsed": false
   },
   "outputs": [],
   "source": [
    "layerID = 1\n",
    "mgrX = 1\n",
    "mgrY = 0"
   ]
  },
  {
   "cell_type": "code",
   "execution_count": null,
   "metadata": {
    "collapsed": false
   },
   "outputs": [],
   "source": [
    "for l in range(1, network.numberOfLayers):\n",
    "        for mgrY in range(network.managerArray.Y):\n",
    "            for mgrX in range(network.managerArray.X):\n",
    "                #print '{0}:{1}:Mem cpy ROI and memory allocation for layer {2}, manager {3},{4}'.format(__FILE__(), __LINE__(), l, mgrY, mgrX)\n",
    "                rv = network.managerArray.manager[mgrY][mgrX].memCpyROI(layerID)\n",
    "                network.managerArray.manager[mgrY][mgrX].allocateMemory(layerID, peMemoryAllocationOptions )\n",
    "                network.managerArray.manager[mgrY][mgrX].createMemoryAllocationFile(layerID)"
   ]
  },
  {
   "cell_type": "code",
   "execution_count": null,
   "metadata": {
    "collapsed": true
   },
   "outputs": [],
   "source": [
    "#print '{0}:{1}:END:'.format(__FILE__(), __LINE__())"
   ]
  }
 ],
 "metadata": {
  "kernelspec": {
   "display_name": "Python 2",
   "language": "python",
   "name": "python2"
  },
  "language_info": {
   "codemirror_mode": {
    "name": "ipython",
    "version": 2
   },
   "file_extension": ".py",
   "mimetype": "text/x-python",
   "name": "python",
   "nbconvert_exporter": "python",
   "pygments_lexer": "ipython2",
   "version": "2.7.10"
  }
 },
 "nbformat": 4,
 "nbformat_minor": 0
}
